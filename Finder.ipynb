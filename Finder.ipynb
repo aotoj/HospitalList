{
 "cells": [
  {
   "cell_type": "code",
   "execution_count": 24,
   "metadata": {},
   "outputs": [
    {
     "name": "stdout",
     "output_type": "stream",
     "text": [
      "https://www.linkedin.com/in/mark-waind-msb-chcio-cphims-601b0243\n",
      "https://www.linkedin.com/in/todd-bortke-40509810\n",
      "https://www.linkedin.com/in/charles-watson-594079b0\n",
      "https://www.linkedin.com/in/ken-gilles-chcio-cphims-9a428bb\n",
      "https://www.linkedin.com/in/shelly-harris-87457b67\n",
      "https://www.linkedin.com/in/bryan-nermoe-b6810090\n",
      "https://www.linkedin.com/in/joshrobinsoncxo\n",
      "https://www.linkedin.com/in/roxana-lupu-a6042a35\n",
      "https://www.linkedin.com/in/joshrobinsoncxo\n"
     ]
    }
   ],
   "source": [
    "import pandas as pd\n",
    "try:\n",
    "    from googlesearch import search\n",
    "except ImportError: \n",
    "    print(\"No module named 'google' found\")\n",
    "    \n",
    "al_df = pd.read_csv(\"ND.csv\")\n",
    "\n",
    "link = \"www.linkedin.com\"\n",
    "\n",
    "ser = []\n",
    "for i in range(len(al_df)):\n",
    "    ser.append(al_df.Hospital_Name[i])\n",
    "\n",
    "\n",
    "\n",
    "for l in range(len(ser)):\n",
    "    query = ser[l] + \" Chief Information Officer\"\n",
    "    for j in search(query, tld=\"co.in\", num=5, stop=5, pause=4):\n",
    "        if link in j:\n",
    "            print(j)"
   ]
  }
 ],
 "metadata": {
  "kernelspec": {
   "display_name": "Python 3",
   "language": "python",
   "name": "python3"
  },
  "language_info": {
   "codemirror_mode": {
    "name": "ipython",
    "version": 3
   },
   "file_extension": ".py",
   "mimetype": "text/x-python",
   "name": "python",
   "nbconvert_exporter": "python",
   "pygments_lexer": "ipython3",
   "version": "3.8.5"
  }
 },
 "nbformat": 4,
 "nbformat_minor": 4
}
