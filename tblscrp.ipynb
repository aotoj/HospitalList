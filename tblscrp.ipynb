{
 "cells": [
  {
   "cell_type": "code",
   "execution_count": 18,
   "metadata": {},
   "outputs": [],
   "source": [
    "import csv\n",
    "from urllib.request import urlopen\n",
    "from bs4 import BeautifulSoup\n",
    "\n",
    "#url = 'https://www.ahd.com/states/hospital_WA.html'\n",
    "#url = \"https://www.ahd.com/states/hospital_AZ.html\"\n",
    "#url = 'https://www.ahd.com/states/hospital_GA.html'\n",
    "#url = 'https://www.ahd.com/states/hospital_AR.html'\n",
    "#url = 'https://www.ahd.com/states/hospital_TN.html'\n",
    "#url = 'https://www.ahd.com/states/hospital_DE.html'\n",
    "#url = 'https://www.ahd.com/states/hospital_IN.html'\n",
    "url = 'https://www.ahd.com/states/hospital_ND.html'\n",
    "\n",
    "#tocsv = \"WA.csv\"\n",
    "#tocsv = \"AZ.csv\"\n",
    "# tocsv = \"GA.csv\"\n",
    "# tocsv = \"AR.csv\"\n",
    "#tocsv = \"TN.csv\"\n",
    "#tocsv = \"DE.csv\"\n",
    "#tocsv = \"IN.csv\"\n",
    "tocsv = \"ND.csv\"\n",
    "\n",
    "# Open the url and parse the html\n",
    "html = urlopen(url)\n",
    "soup = BeautifulSoup(html, 'html.parser')\n",
    "\n",
    "# extract the first table\n",
    "table = soup.find_all('table')[0]\n",
    "rows = table.find_all('tr')\n",
    "\n",
    "# write the content to the file\n",
    "File = open(tocsv, 'wt+')\n",
    "Data = csv.writer(File)\n",
    "try:\n",
    "    for row in rows:\n",
    "        FilteredRow = []\n",
    "        for cell in row.find_all(['td', 'th']):\n",
    "            FilteredRow.append(cell.get_text())\n",
    "        Data.writerow(FilteredRow)\n",
    "finally:\n",
    "    File.close()"
   ]
  }
 ],
 "metadata": {
  "kernelspec": {
   "display_name": "Python 3",
   "language": "python",
   "name": "python3"
  },
  "language_info": {
   "codemirror_mode": {
    "name": "ipython",
    "version": 3
   },
   "file_extension": ".py",
   "mimetype": "text/x-python",
   "name": "python",
   "nbconvert_exporter": "python",
   "pygments_lexer": "ipython3",
   "version": "3.8.5"
  }
 },
 "nbformat": 4,
 "nbformat_minor": 4
}
